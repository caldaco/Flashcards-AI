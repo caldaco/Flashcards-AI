{
 "cells": [
  {
   "cell_type": "code",
   "execution_count": null,
   "id": "ed9ef1dd-3d09-4705-86da-f219bc80917e",
   "metadata": {
    "scrolled": true
   },
   "outputs": [],
   "source": [
    "!pip install PyMuPDF\n",
    "!pip install google-generativeai"
   ]
  },
  {
   "cell_type": "code",
   "execution_count": null,
   "id": "07dcda5e-cc64-47df-811f-d1f7ce8035ac",
   "metadata": {},
   "outputs": [],
   "source": [
    "import sys\n",
    "!{sys.executable} -m pip install PyMuPDF google-generativeai"
   ]
  },
  {
   "cell_type": "code",
   "execution_count": null,
   "id": "ef295d04-5d0b-44e6-a40e-9c84a381abce",
   "metadata": {},
   "outputs": [],
   "source": [
    "import tkinter as tk\n",
    "from tkinter import filedialog, messagebox\n",
    "import fitz\n",
    "import google.generativeai as genai"
   ]
  },
  {
   "cell_type": "markdown",
   "id": "60bce153-02db-48cd-9e1d-c5b31a52a24f",
   "metadata": {},
   "source": [
    "## Gemeni Config."
   ]
  },
  {
   "cell_type": "code",
   "execution_count": 24,
   "id": "b2ca261b-c7b1-4545-ad4f-41490cf6b1e2",
   "metadata": {},
   "outputs": [],
   "source": [
    "genai.configure(api_key=\"api-key\")"
   ]
  },
  {
   "cell_type": "markdown",
   "id": "4793a846-49ea-493c-a829-e3af2235dd0c",
   "metadata": {},
   "source": [
    "## Extract PDF"
   ]
  },
  {
   "cell_type": "code",
   "execution_count": 10,
   "id": "6bdfe051-6730-46e5-9063-02ebff47ee67",
   "metadata": {},
   "outputs": [],
   "source": [
    "def extract_text(path):\n",
    "    text = \"\"\n",
    "    with fitz.open(path) as doc:\n",
    "        for page in doc:\n",
    "            text += page.get_text()\n",
    "    return text"
   ]
  },
  {
   "cell_type": "markdown",
   "id": "93e69235-7efd-4898-8d19-9cf6e4894165",
   "metadata": {},
   "source": [
    "## Generate Flashcards using Gemeni"
   ]
  },
  {
   "cell_type": "code",
   "execution_count": 11,
   "id": "43102891-bbfb-442f-b241-d3acda4677b2",
   "metadata": {
    "jp-MarkdownHeadingCollapsed": true
   },
   "outputs": [],
   "source": [
    "def generate_flashcards(pdf_text):\n",
    "    prompt = f\"\"\"\n",
    "        Based on the following text, create 5 multiple choice questions with 4 options each.\n",
    "        Format:\n",
    "\n",
    "        Q: <question>\n",
    "        A:\n",
    "        - A. option\n",
    "        - B. option\n",
    "        - C. option\n",
    "        - D. option\n",
    "        Answer: <letter>\n",
    "\n",
    "        TEXT: \n",
    "        \\\"\\\"\\\"\n",
    "        {pdf_text[:3000]}\n",
    "        \\\"\\\"\\\"\n",
    "        Only return the question in the format described.\n",
    "    \"\"\"\n",
    "    try:\n",
    "        model = genai.GenerativeModel('gemini-2.5-flash')\n",
    "        response = model.generate_content(prompt)\n",
    "        print(\"Gemeni Output: \\n\", response.text)\n",
    "        return parse_flashcards(response.text)\n",
    "    except Exception as e:\n",
    "        print(\"Gemini Error:\", e)\n",
    "        return[]"
   ]
  },
  {
   "cell_type": "markdown",
   "id": "7eae0ae3-d14c-4905-92b6-749ac0e8b51e",
   "metadata": {},
   "source": [
    "## Parse Gemeni Responses into Flashcards"
   ]
  },
  {
   "cell_type": "code",
   "execution_count": 12,
   "id": "0511d508-06ff-4444-add6-ae5ab2dc6abb",
   "metadata": {},
   "outputs": [],
   "source": [
    "def parse_flashcards(text):\n",
    "    flashcards = []\n",
    "    chunks = text.strip().split(\"Q:\")\n",
    "    for chunk in chunks[1:]:\n",
    "        try:\n",
    "            lines = [line.strip() for line in chunk.strip().split(\"\\n\") if line.strip()]\n",
    "            question = lines[0]\n",
    "            options = []\n",
    "            \n",
    "            for line in lines[1:]:\n",
    "                # Look for lines starting with A., B., C., or D.\n",
    "                if line.startswith((\"- A.\", \"- B.\", \"- C.\", \"- D.\")):\n",
    "                    parts = line.split(\".\", 1)\n",
    "                    if len(parts) == 2:\n",
    "                        options.append(parts[1].strip())\n",
    "                if len(options) == 4:\n",
    "                    break\n",
    "            \n",
    "            # Find the answer line\n",
    "            answer_line = next((line for line in lines if \"Answer:\" in line), None)\n",
    "            if answer_line:\n",
    "                # Extract just the letter after \"Answer:\"\n",
    "                answer_part = answer_line.split(\":\")[-1].strip().upper()\n",
    "                # Get first character in case there's extra text\n",
    "                correct_letter = answer_part[0] if answer_part else None\n",
    "                \n",
    "                if correct_letter in [\"A\", \"B\", \"C\", \"D\"]:\n",
    "                    correct_index = [\"A\", \"B\", \"C\", \"D\"].index(correct_letter)\n",
    "                    if len(options) == 4:\n",
    "                        flashcards.append({\n",
    "                            \"question\": question,\n",
    "                            \"options\": options,\n",
    "                            \"correct\": correct_index\n",
    "                        })\n",
    "        except Exception as e:\n",
    "            print(f\"Error parsing chunk: {e}\")\n",
    "            continue\n",
    "    \n",
    "    return flashcards"
   ]
  },
  {
   "cell_type": "markdown",
   "id": "255ad00e-5ee0-4e69-ae89-218368cbc363",
   "metadata": {},
   "source": [
    "## GUI"
   ]
  },
  {
   "cell_type": "code",
   "execution_count": 19,
   "id": "c16df181-db64-4829-a521-6f1bbefa9e3f",
   "metadata": {},
   "outputs": [],
   "source": [
    "class FlashcardQuizApp:\n",
    "    def __init__(self, master):\n",
    "        self.master = master\n",
    "        self.master.title(\"AI FlashCards\")\n",
    "        self.master.geometry(\"1000x700\")\n",
    "    \n",
    "        self.flashcards = []\n",
    "        self.current_index = 0\n",
    "        self.score = 0\n",
    "        self.selected_option = tk.IntVar()\n",
    "        self.user_answers = []  # Moved here for better organization\n",
    "    \n",
    "        self.title_label = tk.Label(master, text=\"Load PDF to Begin\", font=(\"Arial\", 14, \"bold\"))\n",
    "        self.title_label.pack(pady=10)\n",
    "    \n",
    "        self.load_btn = tk.Button(master, text=\"Load PDF\", command=self.load_pdf)\n",
    "        self.load_btn.pack(pady=5)\n",
    "        \n",
    "        self.start_btn = tk.Button(master, text=\"Start Quiz\", state=\"disabled\", command=self.start_quiz)\n",
    "        self.start_btn.pack(pady=5)\n",
    "    \n",
    "        self.question_label = tk.Label(master, text=\"\", wraplength=500, justify=\"left\", font=(\"Arial\", 12))\n",
    "        self.option_buttons = [\n",
    "            tk.Radiobutton(master, text=\"\", variable=self.selected_option, value=i, font=(\"Arial\", 12))\n",
    "            for i in range(4)\n",
    "        ]\n",
    "    \n",
    "        self.next_btn = tk.Button(master, text=\"Next\", command=self.next_question)\n",
    "        self.quit_btn = tk.Button(master, text=\"Cancel\", command=master.destroy)\n",
    "    \n",
    "    def load_pdf(self):\n",
    "        path = filedialog.askopenfilename(filetypes=[(\"PDF files\", \"*.pdf\")])\n",
    "        if path:\n",
    "            self.title_label.config(text=\"Reading PDF ...\")\n",
    "            self.master.update()\n",
    "            pdf_text = extract_text(path)\n",
    "            self.title_label.config(text=\"Generating Flashcards ...\")\n",
    "            self.master.update()\n",
    "            self.flashcards = generate_flashcards(pdf_text)\n",
    "            if self.flashcards:\n",
    "                messagebox.showinfo(\"Done\", f\"Loaded {len(self.flashcards)} flashcards!\")\n",
    "                self.start_btn.config(state=\"normal\")\n",
    "                self.title_label.config(text=\"Ready! Click 'Start Quiz'\")\n",
    "            else:\n",
    "                messagebox.showerror(\"Error\", \"Failed to generate flashcards.\")\n",
    "    \n",
    "    def start_quiz(self):\n",
    "        self.score = 0\n",
    "        self.current_index = 0\n",
    "        self.user_answers = []  # Reset answers\n",
    "        self.title_label.pack_forget()\n",
    "        self.load_btn.pack_forget()\n",
    "        self.start_btn.pack_forget()\n",
    "        self.display_question()\n",
    "    \n",
    "    def display_question(self):\n",
    "        if self.current_index >= len(self.flashcards):\n",
    "            self.end_quiz()\n",
    "            return\n",
    "    \n",
    "        flash = self.flashcards[self.current_index]\n",
    "        self.selected_option.set(-1)\n",
    "        self.question_label.config(text=f\"Q{self.current_index + 1}: {flash['question']}\")\n",
    "        self.question_label.pack(pady=10)\n",
    "    \n",
    "        for i, opt in enumerate(flash[\"options\"]):\n",
    "            self.option_buttons[i].config(text=opt)\n",
    "            self.option_buttons[i].pack(anchor=\"w\", padx=20)\n",
    "    \n",
    "        self.next_btn.pack(pady=10)\n",
    "        self.quit_btn.pack()\n",
    "    \n",
    "    def next_question(self):\n",
    "        selected = self.selected_option.get()\n",
    "        if selected == -1:\n",
    "            messagebox.showwarning(\"Warning\", \"Please select an option\")\n",
    "            return\n",
    "        \n",
    "        self.user_answers.append(selected)\n",
    "        \n",
    "        if selected == self.flashcards[self.current_index][\"correct\"]:\n",
    "            self.score += 1\n",
    "        \n",
    "        self.current_index += 1\n",
    "        self.display_question()\n",
    "    \n",
    "    def end_quiz(self):\n",
    "        for btn in self.option_buttons:\n",
    "            btn.pack_forget()\n",
    "        \n",
    "        results_text = f\"Quiz Complete!\\nYour Score: {self.score} / {len(self.flashcards)}\\n\\n\"\n",
    "        results_text += \"Review:\\n\"\n",
    "        results_text += \"-\" * 50 + \"\\n\"\n",
    "        \n",
    "        for i, flash in enumerate(self.flashcards):\n",
    "            user_ans = self.user_answers[i]\n",
    "            correct_ans = flash[\"correct\"]\n",
    "            status = \"✓ CORRECT\" if user_ans == correct_ans else \"✗ INCORRECT\"\n",
    "            \n",
    "            results_text += f\"\\nQ{i+1}: {status}\\n\"\n",
    "            results_text += f\"Question: {flash['question']}\\n\\n\"\n",
    "            \n",
    "            if user_ans != correct_ans:\n",
    "                results_text += f\"Your answer: {['A', 'B', 'C', 'D'][user_ans]}. {flash['options'][user_ans]}\\n\"\n",
    "                results_text += f\"Correct answer: {['A', 'B', 'C', 'D'][correct_ans]}. {flash['options'][correct_ans]}\\n\"\n",
    "            else:\n",
    "                results_text += f\"You correctly chose: {['A', 'B', 'C', 'D'][correct_ans]}. {flash['options'][correct_ans]}\\n\"\n",
    "            \n",
    "            results_text += \"-\" * 50 + \"\\n\"\n",
    "        \n",
    "        self.question_label.config(text=results_text)\n",
    "        self.next_btn.pack_forget()\n",
    "        self.quit_btn.config(text=\"Exit\")"
   ]
  },
  {
   "cell_type": "markdown",
   "id": "facbd854-763b-4649-ab99-14ad07f480aa",
   "metadata": {},
   "source": [
    "## Launch GUI"
   ]
  },
  {
   "cell_type": "code",
   "execution_count": 23,
   "id": "7897cb1a-d6d4-4598-8b16-54d344b0fafc",
   "metadata": {
    "scrolled": true
   },
   "outputs": [
    {
     "name": "stdout",
     "output_type": "stream",
     "text": [
      "Gemeni Output: \n",
      " Q: What is the primary purpose of the \"Computer Science Fundamentals Curriculum Guide\"?\n",
      "A:\n",
      "- A. To provide a historical overview of computer science education.\n",
      "- B. To help users navigate lessons in Courses A-F and offer teaching tips.\n",
      "- C. To market new computer science software to educators.\n",
      "- D. To detail the history of Code.org's curriculum development.\n",
      "Answer: B\n",
      "\n",
      "Q: The \"CS Fundamentals Curriculum Guide\" is specifically designed to help users with which range of courses?\n",
      "A:\n",
      "- A. Courses 1-6\n",
      "- B. Courses K-12\n",
      "- C. Courses A-F\n",
      "- D. Advanced Placement (AP) Computer Science courses\n",
      "Answer: C\n",
      "\n",
      "Q: How are the curriculum resources and tutorials described in the guide licensed?\n",
      "A:\n",
      "- A. They are proprietary and require a paid subscription.\n",
      "- B. They are available under a Creative Commons Attribution-NonCommercial-ShareAlike 4.0 International License.\n",
      "- C. They are open source for technology, but curriculum requires a separate license.\n",
      "- D. They are free for personal use but require commercial licensing for classroom implementation.\n",
      "Answer: B\n",
      "\n",
      "Q: Which of the following is NOT explicitly listed as a section or topic covered in the \"CS Fundamentals Curriculum Guide\" table of contents?\n",
      "A:\n",
      "- A. Implementation Tips and Considerations\n",
      "- B. Student Practices\n",
      "- C. Historical figures in computer science\n",
      "- D. Outline of Courses A-F\n",
      "Answer: C\n",
      "\n",
      "Q: Which of these is highlighted as a \"Classroom Practice\" under the pedagogical approach in the curriculum guide?\n",
      "A:\n",
      "- A. Memorization Drills\n",
      "- B. Pair Programming\n",
      "- C. Strict Individual Work\n",
      "- D. Competitive Grading\n",
      "Answer: B\n"
     ]
    }
   ],
   "source": [
    "if __name__ == \"__main__\":\n",
    "    root = tk.Tk()\n",
    "    app = FlashcardQuizApp(root)\n",
    "    root.mainloop()"
   ]
  },
  {
   "cell_type": "code",
   "execution_count": null,
   "id": "2f86c78a-369f-4545-8d16-ee86a998f4fa",
   "metadata": {},
   "outputs": [],
   "source": []
  }
 ],
 "metadata": {
  "kernelspec": {
   "display_name": "Python 3 (ipykernel)",
   "language": "python",
   "name": "python3"
  },
  "language_info": {
   "codemirror_mode": {
    "name": "ipython",
    "version": 3
   },
   "file_extension": ".py",
   "mimetype": "text/x-python",
   "name": "python",
   "nbconvert_exporter": "python",
   "pygments_lexer": "ipython3",
   "version": "3.12.8"
  }
 },
 "nbformat": 4,
 "nbformat_minor": 5
}
